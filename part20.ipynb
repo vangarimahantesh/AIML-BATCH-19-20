{
  "nbformat": 4,
  "nbformat_minor": 0,
  "metadata": {
    "colab": {
      "provenance": [],
      "authorship_tag": "ABX9TyPsK/FPl84mqsFXXBJDMEub",
      "include_colab_link": true
    },
    "kernelspec": {
      "name": "python3",
      "display_name": "Python 3"
    },
    "language_info": {
      "name": "python"
    }
  },
  "cells": [
    {
      "cell_type": "markdown",
      "metadata": {
        "id": "view-in-github",
        "colab_type": "text"
      },
      "source": [
        "<a href=\"https://colab.research.google.com/github/vangarimahantesh/AIML-BATCH-19-20/blob/main/part20.ipynb\" target=\"_parent\"><img src=\"https://colab.research.google.com/assets/colab-badge.svg\" alt=\"Open In Colab\"/></a>"
      ]
    },
    {
      "cell_type": "code",
      "execution_count": 1,
      "metadata": {
        "colab": {
          "base_uri": "https://localhost:8080/"
        },
        "id": "a1gYYI7aBgAM",
        "outputId": "7b6df03a-33ac-4fdc-fdc5-3fd6d42fa29b"
      },
      "outputs": [
        {
          "output_type": "stream",
          "name": "stdout",
          "text": [
            "[1, 2, 3, 4, 4, 5, 6]\n"
          ]
        }
      ],
      "source": [
        "import numpy as np\n",
        "list=[1,2,3,4,4,5,6]\n",
        "print(list)"
      ]
    },
    {
      "cell_type": "code",
      "source": [
        "import numpy as np\n",
        " list1 = [1,2,3,4,5,6,7,8,9,10]\n",
        " arr1=np.array(list1)\n",
        " print(\"the array is\",arr1)"
      ],
      "metadata": {
        "colab": {
          "base_uri": "https://localhost:8080/",
          "height": 106
        },
        "id": "D5J7_WYNMEyP",
        "outputId": "0544910e-425f-4690-d64e-d703bbcfde44"
      },
      "execution_count": 3,
      "outputs": [
        {
          "output_type": "error",
          "ename": "IndentationError",
          "evalue": "unexpected indent (<ipython-input-3-5aa5b3a6f872>, line 2)",
          "traceback": [
            "\u001b[0;36m  File \u001b[0;32m\"<ipython-input-3-5aa5b3a6f872>\"\u001b[0;36m, line \u001b[0;32m2\u001b[0m\n\u001b[0;31m    list1 = [1,2,3,4,5,6,7,8,9,10]\u001b[0m\n\u001b[0m    ^\u001b[0m\n\u001b[0;31mIndentationError\u001b[0m\u001b[0;31m:\u001b[0m unexpected indent\n"
          ]
        }
      ]
    },
    {
      "cell_type": "code",
      "source": [
        "List = [1, 2, 4, 4, 3, 3, 3, 6, 5]\n",
        "print(\"\\nList with the use of Numbers: \")\n",
        "print(List)\n",
        "List = [1, 2, 'Geeks', 4, 'For', 6, 'Geeks']\n",
        "print(\"\\nList with the use of Mixed Values: \")\n",
        "print(List)"
      ],
      "metadata": {
        "colab": {
          "base_uri": "https://localhost:8080/"
        },
        "id": "xuHymGCkMR8M",
        "outputId": "65139a91-074a-42f1-92b3-cdb41e9b2a99"
      },
      "execution_count": 4,
      "outputs": [
        {
          "output_type": "stream",
          "name": "stdout",
          "text": [
            "\n",
            "List with the use of Numbers: \n",
            "[1, 2, 4, 4, 3, 3, 3, 6, 5]\n",
            "\n",
            "List with the use of Mixed Values: \n",
            "[1, 2, 'Geeks', 4, 'For', 6, 'Geeks']\n"
          ]
        }
      ]
    }
  ]
}